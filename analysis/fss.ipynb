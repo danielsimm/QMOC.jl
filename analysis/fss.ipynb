{
 "cells": [
  {
   "cell_type": "code",
   "execution_count": 1,
   "metadata": {},
   "outputs": [],
   "source": [
    "from __future__ import division\n",
    "# configure plotting\n",
    "%config InlineBackend.rc = {'figure.dpi': 300, 'savefig.dpi': 300, \\\n",
    "                            'figure.figsize': (6, 6 / 1.6), 'font.size': 12, \\\n",
    "                            'figure.facecolor': (1, 1, 1, 0)}\n",
    "%matplotlib inline\n",
    "import itertools\n",
    "\n",
    "from cycler import cycler\n",
    "import matplotlib as mpl\n",
    "import matplotlib.pyplot as plt\n",
    "import numpy as np\n",
    "import seaborn as sns\n",
    "import fssa"
   ]
  },
  {
   "cell_type": "code",
   "execution_count": 2,
   "metadata": {},
   "outputs": [],
   "source": [
    "y24 = [-0.9634499999999997,\n",
    " -0.9498500000000001,\n",
    " -0.925,\n",
    " -0.8897499999999998,\n",
    " -0.8444499999999998,\n",
    " -0.7778,\n",
    " -0.6893999999999998,\n",
    " -0.5558000000000001,\n",
    " -0.39260000000000006,\n",
    " -0.15545,\n",
    "  0.1445,\n",
    "  0.40889999999999993,\n",
    "  0.6010500000000001,\n",
    "  0.7512500000000002,\n",
    "  0.8354000000000003,\n",
    "  0.89375,\n",
    "  0.9261499999999999,\n",
    "  0.9477999999999998,\n",
    "  0.9614499999999999,\n",
    "  0.9775999999999999,\n",
    "  0.9831499999999999]"
   ]
  },
  {
   "cell_type": "code",
   "execution_count": 3,
   "metadata": {},
   "outputs": [],
   "source": [
    "y36 = [-0.9943999999999998,\n",
    " -0.9900999999999999,\n",
    " -0.9845999999999998,\n",
    " -0.9727499999999999,\n",
    " -0.9494999999999999,\n",
    " -0.90605,\n",
    " -0.8514999999999999,\n",
    " -0.73905,\n",
    " -0.5403000000000001,\n",
    " -0.2303,\n",
    "  0.1717,\n",
    "  0.55825,\n",
    "  0.76985,\n",
    "  0.8825000000000002,\n",
    "  0.9459999999999998,\n",
    "  0.9706999999999998,\n",
    "  0.9810499999999999,\n",
    "  0.99095,\n",
    "  0.9951000000000001,\n",
    "  0.9962999999999999,\n",
    "  0.9982500000000001]"
   ]
  },
  {
   "cell_type": "code",
   "execution_count": 4,
   "metadata": {},
   "outputs": [],
   "source": [
    "y48 = [-0.9993000000000001,\n",
    " -0.9983,\n",
    " -0.9975999999999999,\n",
    " -0.9926999999999999,\n",
    " -0.9810999999999999,\n",
    " -0.9652,\n",
    " -0.9227,\n",
    " -0.8466999999999999,\n",
    " -0.7257000000000001,\n",
    " -0.44660000000000005,\n",
    "  0.02729999999999999,\n",
    "  0.5164,\n",
    "  0.7932000000000002,\n",
    "  0.9215000000000001,\n",
    "  0.9767,\n",
    "  0.9878,\n",
    "  0.9968,\n",
    "  0.9982,\n",
    "  0.9993,\n",
    "  0.9998,\n",
    "  0.9986]"
   ]
  },
  {
   "cell_type": "code",
   "execution_count": 5,
   "metadata": {},
   "outputs": [],
   "source": [
    "y60 = [-0.9998,\n",
    " -0.9995,\n",
    " -0.9989,\n",
    " -0.9973000000000001,\n",
    " -0.9937999999999999,\n",
    " -0.9887999999999999,\n",
    " -0.9723000000000002,\n",
    " -0.9355999999999999,\n",
    " -0.7833,\n",
    " -0.5740000000000001,\n",
    "  0.018299999999999997,\n",
    "  0.5107,\n",
    "  0.795,\n",
    "  0.9174000000000001,\n",
    "  0.9685000000000001,\n",
    "  0.9905999999999999,\n",
    "  0.9972,\n",
    "  0.9997,\n",
    "  0.9995,\n",
    "  1.0,\n",
    "  0.9997]"
   ]
  },
  {
   "cell_type": "code",
   "execution_count": 6,
   "metadata": {},
   "outputs": [],
   "source": [
    "dy = np.zeros((4, 21)) + 1.0"
   ]
  },
  {
   "cell_type": "code",
   "execution_count": null,
   "metadata": {},
   "outputs": [],
   "source": []
  },
  {
   "cell_type": "code",
   "execution_count": 7,
   "metadata": {},
   "outputs": [],
   "source": [
    "x = [1.4000000000000001,\n",
    " 1.4500000000000002,\n",
    " 1.4999999999999998,\n",
    " 1.55,\n",
    " 1.6000000000000003,\n",
    " 1.65,\n",
    " 1.7,\n",
    " 1.75,\n",
    " 1.8,\n",
    " 1.85,\n",
    " 1.9,\n",
    " 1.9499999999999997,\n",
    " 2.0,\n",
    " 2.05,\n",
    " 2.1,\n",
    " 2.1500000000000004,\n",
    " 2.2,\n",
    " 2.25,\n",
    " 2.3,\n",
    " 2.35,\n",
    " 2.4]"
   ]
  },
  {
   "cell_type": "code",
   "execution_count": 8,
   "metadata": {},
   "outputs": [],
   "source": [
    "y = [y24, y36, y48, y60]"
   ]
  },
  {
   "cell_type": "code",
   "execution_count": 9,
   "metadata": {},
   "outputs": [],
   "source": [
    "l = [24, 36, 48, 60]"
   ]
  },
  {
   "cell_type": "code",
   "execution_count": 10,
   "metadata": {},
   "outputs": [
    {
     "data": {
      "text/plain": [
       "       message: Optimization terminated successfully.\n",
       "       success: True\n",
       "        status: 0\n",
       "           fun: 0.0009055315676347586\n",
       "             x: [ 1.939e+00  1.605e+00  9.017e-02]\n",
       "           nit: 41\n",
       "          nfev: 73\n",
       " final_simplex: (array([[ 1.939e+00,  1.605e+00,  9.017e-02],\n",
       "                       [ 1.940e+00,  1.605e+00,  9.766e-02],\n",
       "                       [ 1.938e+00,  1.604e+00,  9.890e-02],\n",
       "                       [ 1.939e+00,  1.609e+00,  9.560e-02]]), array([ 9.055e-04,  9.057e-04,  9.060e-04,  9.086e-04]))\n",
       "         varco: [[ 1.218e-02 -1.802e-01 -5.864e-03]\n",
       "                 [-1.802e-01  2.954e+00  1.045e-01]\n",
       "                 [-5.864e-03  1.045e-01  2.095e-02]]\n",
       "        errors: [ 1.104e-01  1.719e+00  1.447e-01]\n",
       "           rho: 1.9391130074709644\n",
       "            nu: 1.6046177882265398\n",
       "          zeta: 0.09016814422854483\n",
       "          drho: 0.11035839915970831\n",
       "           dnu: 1.718787701543956\n",
       "         dzeta: 0.14474569051496403"
      ]
     },
     "execution_count": 10,
     "metadata": {},
     "output_type": "execute_result"
    }
   ],
   "source": [
    "fssa.autoscale(l, x, y, dy, 1.9, 1.0, 2.0)"
   ]
  },
  {
   "cell_type": "code",
   "execution_count": null,
   "metadata": {},
   "outputs": [],
   "source": []
  }
 ],
 "metadata": {
  "kernelspec": {
   "display_name": "base",
   "language": "python",
   "name": "python3"
  },
  "language_info": {
   "codemirror_mode": {
    "name": "ipython",
    "version": 3
   },
   "file_extension": ".py",
   "mimetype": "text/x-python",
   "name": "python",
   "nbconvert_exporter": "python",
   "pygments_lexer": "ipython3",
   "version": "3.9.12"
  }
 },
 "nbformat": 4,
 "nbformat_minor": 2
}
